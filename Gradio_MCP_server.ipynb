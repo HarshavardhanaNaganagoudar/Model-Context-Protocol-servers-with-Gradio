{
  "nbformat": 4,
  "nbformat_minor": 0,
  "metadata": {
    "colab": {
      "provenance": []
    },
    "kernelspec": {
      "name": "python3",
      "display_name": "Python 3"
    },
    "language_info": {
      "name": "python"
    }
  },
  "cells": [
    {
      "cell_type": "markdown",
      "source": [
        "**Goal:** To build innovative Model Context Protocol servers with Gradio"
      ],
      "metadata": {
        "id": "9p9kMAaU2NvH"
      }
    },
    {
      "cell_type": "markdown",
      "source": [
        "**Agenda:** To build an AI agent which also an MCP server, can be used with MCP client like claude desktop.\n",
        "\n",
        "**MCP server:** DailyPal, your all-in-one assistant to discover:\n",
        "📚 Great books,\n",
        "🍳 Random recipes,\n",
        "🎬 Movies now playing,\n",
        "🎵 Music recommendations,\n",
        "☁️ Current weather updates"
      ],
      "metadata": {
        "id": "o7oi17Uu2mcX"
      }
    },
    {
      "cell_type": "markdown",
      "source": [
        "**Import necessary packages**"
      ],
      "metadata": {
        "id": "EQts6dGT4CY2"
      }
    },
    {
      "cell_type": "code",
      "source": [
        "import os\n",
        "import requests\n",
        "import gradio as gr\n",
        "from dotenv import load_dotenv\n",
        "import re\n",
        "from typing import Optional\n",
        "import base64\n",
        "from time import sleep"
      ],
      "metadata": {
        "id": "Y0vReWSG1Ef-"
      },
      "execution_count": null,
      "outputs": []
    },
    {
      "cell_type": "markdown",
      "source": [
        "**Creating the book recommendation tool**"
      ],
      "metadata": {
        "id": "3XfXz2Hk7zMW"
      }
    },
    {
      "cell_type": "code",
      "source": [
        "def get_book_recommendations(prompt: str) -> str:\n",
        "    \"\"\"\n",
        "    Fetches a book recommendation from Google Books API.\n",
        "    Args:\n",
        "        prompt: User search query, e.g., \"thriller novel by Gillian Flynn\"\n",
        "    Returns:\n",
        "        Top book recommendation in formatted text.\n",
        "    \"\"\"\n",
        "    load_dotenv()  # Make sure this is called before accessing environment variables\n",
        "\n",
        "    api_key = os.getenv(\"GOOGLE_BOOKS_API_KEY\")\n",
        "    if not api_key:\n",
        "        return \"API key not found.\"\n",
        "\n",
        "    search_query = prompt.strip()\n",
        "    url = f\"https://www.googleapis.com/books/v1/volumes?q={search_query}&key={api_key}\"\n",
        "\n",
        "    try:\n",
        "        response = requests.get(url, timeout=10)\n",
        "        response.raise_for_status()\n",
        "        books = response.json().get(\"items\", [])\n",
        "        if not books:\n",
        "            return \"No books found.\"\n",
        "\n",
        "        volume_info = books[0].get(\"volumeInfo\", {})\n",
        "        title = volume_info.get(\"title\", \"Unknown Title\")\n",
        "        authors = \", \".join(volume_info.get(\"authors\", [\"Unknown Author\"]))\n",
        "        description = volume_info.get(\"description\", \"No description available.\")\n",
        "\n",
        "        return f\"📚 **{title}** by *{authors}*\\n\\n{description}\"\n",
        "    except Exception as e:\n",
        "        return f\"Error: {str(e)}\""
      ],
      "metadata": {
        "id": "f-jxAVTz1Eja"
      },
      "execution_count": null,
      "outputs": []
    },
    {
      "cell_type": "markdown",
      "source": [
        "**Creating a tool to get random recipes**"
      ],
      "metadata": {
        "id": "MMzHSPiB8KSc"
      }
    },
    {
      "cell_type": "code",
      "source": [
        "def get_random_recipe(tags: str = \"\", exclude_ingredients: str = \"\") -> str:\n",
        "    \"\"\"\n",
        "    Fetches a random recipe using the Spoonacular API and returns it in a formatted string.\n",
        "\n",
        "    Args:\n",
        "        tags (str): Comma-separated tags like 'vegetarian,dessert'.\n",
        "        exclude_ingredients (str): Comma-separated ingredients to exclude.\n",
        "\n",
        "    Returns:\n",
        "        str: A formatted string with title, preparation time, ingredients, and cooking steps.\n",
        "\n",
        "    \"\"\"\n",
        "    load_dotenv()\n",
        "\n",
        "    recipe_api_key = os.getenv(\"SPOONACULAR_API_KEY\")\n",
        "    if not recipe_api_key:\n",
        "        return \"❌ API key not found in environment.\"\n",
        "\n",
        "    url = \"https://api.spoonacular.com/recipes/random\"\n",
        "    params = {\n",
        "        \"number\": 1,\n",
        "        \"tags\": tags,\n",
        "        \"excludeIngredients\": exclude_ingredients,\n",
        "        \"apiKey\": recipe_api_key\n",
        "    }\n",
        "\n",
        "    try:\n",
        "        response = requests.get(url, params=params, timeout=10)\n",
        "        data = response.json()\n",
        "    except Exception:\n",
        "        return \"❌ Failed to parse JSON from API response.\"\n",
        "\n",
        "    if response.status_code != 200:\n",
        "        return f\"❌ API Error: {data.get('message', 'Unknown error')}\"\n",
        "\n",
        "    if not data.get(\"recipes\"):\n",
        "        return \"❌ No recipes returned.\"\n",
        "\n",
        "    recipe = data[\"recipes\"][0]\n",
        "\n",
        "    title = recipe.get(\"title\", \"Unknown\")\n",
        "    ready_in = recipe.get(\"readyInMinutes\", \"?\")\n",
        "    ingredients = [i[\"name\"] for i in recipe.get(\"extendedIngredients\", [])]\n",
        "\n",
        "    steps = []\n",
        "    for block in recipe.get(\"analyzedInstructions\", []):\n",
        "        for step in block.get(\"steps\", []):\n",
        "            steps.append(step[\"step\"])\n",
        "\n",
        "    formatted = f\"🍽️ **Title**: {title}\\n\"\n",
        "    formatted += f\"🕒 **Ready in**: {ready_in} minutes\\n\"\n",
        "    formatted += f\"📋 **Ingredients**: {', '.join(ingredients) if ingredients else 'N/A'}\\n\"\n",
        "    formatted += \"👨‍🍳 **Steps**:\\n\"\n",
        "    for idx, step in enumerate(steps, 1):\n",
        "        formatted += f\"  {idx}. {step.strip()}\\n\"\n",
        "\n",
        "    return formatted.strip()"
      ],
      "metadata": {
        "id": "dYqflEgX1Emg"
      },
      "execution_count": null,
      "outputs": []
    },
    {
      "cell_type": "markdown",
      "source": [
        "**Defining the tool to get now playing movies**"
      ],
      "metadata": {
        "id": "QjJ-A9Du8l8q"
      }
    },
    {
      "cell_type": "code",
      "source": [
        "def get_now_playing_movies(retries=3) -> str:\n",
        "    api_key = os.getenv(\"TMDB_API_KEY\")\n",
        "    url = f\"https://api.themoviedb.org/3/movie/now_playing?api_key={api_key}&language=en-US&page=1\"\n",
        "\n",
        "    for attempt in range(1, retries + 1):\n",
        "        try:\n",
        "            response = requests.get(url, timeout=10)\n",
        "            response.raise_for_status()\n",
        "            movies = response.json().get(\"results\", [])\n",
        "            if not movies:\n",
        "                return \"No movies currently playing.\"\n",
        "\n",
        "            formatted = []\n",
        "            for movie in movies[:5]:\n",
        "                title = movie.get(\"title\", \"Untitled\")\n",
        "                overview = movie.get(\"overview\", \"No description available.\")\n",
        "                formatted.append(f\"🎬 **{title}**\\n{overview}\\n\")\n",
        "            return \"\\n\".join(formatted)\n",
        "\n",
        "        except Exception as e:\n",
        "            if attempt == retries:\n",
        "                return f\"❌ Failed after {retries} attempts: {e}\"\n",
        "            sleep(1)  # Wait before retrying"
      ],
      "metadata": {
        "id": "8NMb8g4z1Eph"
      },
      "execution_count": null,
      "outputs": []
    },
    {
      "cell_type": "markdown",
      "source": [
        "**Tool to get music recommendations**"
      ],
      "metadata": {
        "id": "y0cf9XUa83nA"
      }
    },
    {
      "cell_type": "code",
      "source": [
        "def get_music_recommendations(prompt: str, num_songs: int = 3, min_popularity: int = 0, year: str = \"\") -> str:\n",
        "    \"\"\"\n",
        "    Fetches multiple music recommendations from Spotify API.\n",
        "\n",
        "    Args:\n",
        "        prompt: Search query (genre, mood, etc.)\n",
        "        num_songs: Number of song recommendations to return.\n",
        "        min_popularity: Minimum popularity score (0–100).\n",
        "        year: Optional release year filter, e.g., '2022' or '2010-2020'.\n",
        "\n",
        "    Returns:\n",
        "        Markdown-formatted string of top song recommendations.\n",
        "    \"\"\"\n",
        "    load_dotenv()\n",
        "    client_id = os.getenv(\"SPOTIFY_CLIENT_ID\")\n",
        "    client_secret = os.getenv(\"SPOTIFY_CLIENT_SECRET\")\n",
        "\n",
        "    if not client_id or not client_secret:\n",
        "        return \"Spotify API credentials not found.\"\n",
        "\n",
        "    # Encode client_id:client_secret\n",
        "    auth_str = f\"{client_id}:{client_secret}\"\n",
        "    b64_auth_str = base64.b64encode(auth_str.encode()).decode()\n",
        "\n",
        "    try:\n",
        "        token_response = requests.post(\n",
        "            \"https://accounts.spotify.com/api/token\",\n",
        "            data={\"grant_type\": \"client_credentials\"},\n",
        "            headers={\"Authorization\": f\"Basic {b64_auth_str}\"}\n",
        "        )\n",
        "        token_response.raise_for_status()\n",
        "        access_token = token_response.json().get(\"access_token\")\n",
        "    except Exception as e:\n",
        "        return f\"Token Error: {str(e)}\"\n",
        "\n",
        "    try:\n",
        "        # Append year filter if provided\n",
        "        search_query = prompt.strip()\n",
        "        if year:\n",
        "            search_query += f\" year:{year}\"\n",
        "\n",
        "        url = f\"https://api.spotify.com/v1/search?q={search_query}&type=track&limit={num_songs}\"\n",
        "        headers = {\"Authorization\": f\"Bearer {access_token}\"}\n",
        "\n",
        "        response = requests.get(url, headers=headers, timeout=10)\n",
        "        response.raise_for_status()\n",
        "        tracks = response.json().get(\"tracks\", {}).get(\"items\", [])\n",
        "\n",
        "        if not tracks:\n",
        "            return \"No songs found.\"\n",
        "\n",
        "        # Filter by popularity and format results\n",
        "        filtered_tracks = [\n",
        "            track for track in tracks if track[\"popularity\"] >= min_popularity\n",
        "        ]\n",
        "\n",
        "        if not filtered_tracks:\n",
        "            return f\"No songs found with popularity ≥ {min_popularity}.\"\n",
        "\n",
        "        output_lines = []\n",
        "        for track in filtered_tracks:\n",
        "            name = track[\"name\"]\n",
        "            artist = \", \".join(artist[\"name\"] for artist in track[\"artists\"])\n",
        "            popularity = track[\"popularity\"]\n",
        "            spotify_url = track[\"external_urls\"][\"spotify\"]\n",
        "            preview_url = track.get(\"preview_url\")\n",
        "\n",
        "            entry = f\"🎵 **{name}** by *{artist}* (Popularity: {popularity})\\n[Listen on Spotify]({spotify_url})\"\n",
        "            if preview_url:\n",
        "                entry += f\"\\nPreview: {preview_url}\"\n",
        "            output_lines.append(entry)\n",
        "\n",
        "        return \"\\n\\n---\\n\\n\".join(output_lines)\n",
        "    except Exception as e:\n",
        "        return f\"Error: {str(e)}\""
      ],
      "metadata": {
        "id": "CHvSrMlv1EtB"
      },
      "execution_count": null,
      "outputs": []
    },
    {
      "cell_type": "markdown",
      "source": [
        "**Tool to fetch current weather**"
      ],
      "metadata": {
        "id": "5OMOEygN9dIO"
      }
    },
    {
      "cell_type": "code",
      "source": [
        "def get_current_weather(location: str) -> str:\n",
        "    \"\"\"\n",
        "    Fetches current weather for a given city name or coordinates using OpenWeatherMap API.\n",
        "\n",
        "    Args:\n",
        "        location: A city name (e.g., \"New York\") or \"lat,lon\" format (e.g., \"44.34,10.99\")\n",
        "\n",
        "    Returns:\n",
        "        A formatted weather report string.\n",
        "    \"\"\"\n",
        "    load_dotenv()\n",
        "\n",
        "    api_key = os.getenv(\"OPENWEATHER_API_KEY\")\n",
        "    if not api_key:\n",
        "        return \"OpenWeatherMap API key not found.\"\n",
        "\n",
        "    try:\n",
        "        # Check if input is coordinates\n",
        "        if \",\" in location:\n",
        "            lat, lon = map(str.strip, location.split(\",\"))\n",
        "        else:\n",
        "            # Use geocoding API to get coordinates from city name\n",
        "            geo_url = f\"http://api.openweathermap.org/geo/1.0/direct?q={location}&limit=1&appid={api_key}\"\n",
        "            geo_resp = requests.get(geo_url, timeout=10)\n",
        "            geo_resp.raise_for_status()\n",
        "            geo_data = geo_resp.json()\n",
        "            if not geo_data:\n",
        "                return f\"Could not find location: {location}\"\n",
        "            lat = geo_data[0][\"lat\"]\n",
        "            lon = geo_data[0][\"lon\"]\n",
        "\n",
        "        # Get weather\n",
        "        weather_url = f\"https://api.openweathermap.org/data/2.5/weather?lat={lat}&lon={lon}&appid={api_key}&units=metric\"\n",
        "        weather_resp = requests.get(weather_url, timeout=10)\n",
        "        weather_resp.raise_for_status()\n",
        "        data = weather_resp.json()\n",
        "\n",
        "        city = f\"{data.get('name', 'Unknown')}, {data['sys'].get('country', '')}\"\n",
        "        condition = data[\"weather\"][0][\"description\"].capitalize()\n",
        "        temp = data[\"main\"][\"temp\"]\n",
        "        feels_like = data[\"main\"][\"feels_like\"]\n",
        "        humidity = data[\"main\"][\"humidity\"]\n",
        "        wind = data[\"wind\"][\"speed\"]\n",
        "\n",
        "        return (\n",
        "            f\"🌤 **Weather in {city}**\\n\"\n",
        "            f\"Condition: {condition}\\n\"\n",
        "            f\"🌡 Temperature: {temp}°C (Feels like {feels_like}°C)\\n\"\n",
        "            f\"💧 Humidity: {humidity}%\\n\"\n",
        "            f\"🌬 Wind Speed: {wind} m/s\"\n",
        "        )\n",
        "\n",
        "    except Exception as e:\n",
        "        return f\"Error fetching weather: {str(e)}\""
      ],
      "metadata": {
        "id": "oeQMmQVK1Ewf"
      },
      "execution_count": null,
      "outputs": []
    },
    {
      "cell_type": "markdown",
      "source": [
        "**Creating the gradio interfaces for each tool**"
      ],
      "metadata": {
        "id": "zufDaPnj90iv"
      }
    },
    {
      "cell_type": "code",
      "source": [
        "# Define Gradio interface\n",
        "book_interface = gr.Interface(\n",
        "    fn=get_book_recommendations,\n",
        "    inputs=gr.Textbox(label=\"Enter your book query\"),\n",
        "    outputs=gr.Markdown(label=\"Top Recommendation\"),\n",
        "    api_name=\"get_book_recommendations\"\n",
        ")\n",
        "\n",
        "recipe_interface = gr.Interface(\n",
        "    fn=get_random_recipe,\n",
        "    inputs=[\n",
        "        gr.Textbox(label=\"Tags (e.g., vegetarian,dessert)\", placeholder=\"Enter tags or leave blank\"),\n",
        "        gr.Textbox(label=\"Exclude Ingredients\", placeholder=\"e.g., nuts,gluten\")\n",
        "    ],\n",
        "    outputs=gr.Markdown(label=\"Random Recipe\"),\n",
        "    api_name=\"get_random_recipe\"  # This is critical for Hugging Face MCP endpoints\n",
        ")\n",
        "\n",
        "movie_interface = gr.Interface(\n",
        "    fn=get_now_playing_movies,\n",
        "    inputs=[],  # No input needed for now-playing movies\n",
        "    outputs=gr.Markdown(label=\"Now Playing Movies\"),\n",
        "    api_name=\"get_now_playing_movies\"\n",
        ")\n",
        "\n",
        "music_interface = gr.Interface(\n",
        "    fn=get_music_recommendations,\n",
        "    inputs=[\n",
        "        gr.Textbox(label=\"Enter your music query (e.g., 'lofi beats', 'happy pop')\"),\n",
        "        gr.Slider(minimum=1, maximum=10, value=3, label=\"Number of Songs\"),\n",
        "        gr.Slider(minimum=0, maximum=100, value=0, label=\"Minimum Popularity\"),\n",
        "        gr.Textbox(label=\"Release Year (e.g., 2022 or 2015-2020)\", placeholder=\"Optional\")\n",
        "    ],\n",
        "    outputs=gr.Markdown(label=\"Song Recommendations\"),\n",
        "    api_name=\"get_music_recommendations\"\n",
        ")\n",
        "\n",
        "weather_interface = gr.Interface(\n",
        "    fn=get_current_weather,\n",
        "    inputs=gr.Textbox(label=\"Enter a location (e.g., 'New York' or '44.34,10.99')\"),\n",
        "    outputs=gr.Markdown(label=\"Current Weather\"),\n",
        "    api_name=\"get_current_weather\"\n",
        ")"
      ],
      "metadata": {
        "id": "fe9Xo7NT1Ezu"
      },
      "execution_count": null,
      "outputs": []
    },
    {
      "cell_type": "markdown",
      "source": [
        "**Defining the gradio block and converting the agent to MCP server**"
      ],
      "metadata": {
        "id": "s339YDSN_Tty"
      }
    },
    {
      "cell_type": "code",
      "source": [
        "with gr.Blocks(title=\"DailyPal: Your Daily Discovery Assistant\") as demo:\n",
        "    gr.Markdown(\"\"\"\n",
        "    # 🌟 DailyPal\n",
        "    Welcome to **DailyPal**, your all-in-one assistant to discover:\n",
        "\n",
        "    - 📚 Great books\n",
        "    - 🍳 Random recipes\n",
        "    - 🎬 Movies now playing\n",
        "    - 🎵 Music recommendations\n",
        "    - ☁️ Current weather updates\n",
        "\n",
        "    ---\n",
        "    ⚙️ **How to use**:\n",
        "    Just select a tab and enter your query or location. Get instant suggestions to brighten your day!\n",
        "    \"\"\")\n",
        "\n",
        "    gr.TabbedInterface(\n",
        "        [\n",
        "            book_interface,\n",
        "            recipe_interface,\n",
        "            movie_interface,\n",
        "            music_interface,\n",
        "            weather_interface,\n",
        "            # Add more tools here\n",
        "        ],\n",
        "        [\n",
        "            \"Book Finder\",\n",
        "            \"Random Recipe\",\n",
        "            \"Now Playing Movies\",\n",
        "            \"Music Recommendations\",\n",
        "            \"Current Weather\"\n",
        "        ]\n",
        "    )\n",
        "    gr.Markdown(\"**Example prompt using mcp client like claude desktop**: I am in new york, if the weather is good, then get me a recipe to grill outdoors, if not get me a book on mars to read, and also get me the songs by weekend to listen.\")\n",
        "    gr.Markdown(\"### 🔗 [Watch Demo Video](https://drive.google.com/file/d/1DV0Plrhdr7kAWtLRQS91BnVuvRElPbOm/view?usp=drive_link)\")\n",
        "\n",
        "\n",
        "if __name__ == \"__main__\":\n",
        "    demo.launch(mcp_server=True)"
      ],
      "metadata": {
        "id": "IK-nOY8f9ppI"
      },
      "execution_count": null,
      "outputs": []
    },
    {
      "cell_type": "markdown",
      "source": [
        "**Conclusion:**"
      ],
      "metadata": {
        "id": "1wM51Cfz_5Hw"
      }
    },
    {
      "cell_type": "markdown",
      "source": [
        "The AI agent is created successfully using gradio interface, which also acts as MCP server."
      ],
      "metadata": {
        "id": "BXBb5-j3BZ6b"
      }
    },
    {
      "cell_type": "markdown",
      "source": [
        "**Example prompt using mcp client like claude desktop:** I am in new york, if the weather is good, then get me a recipe to grill outdoors, if not get me a book on mars to read, and also get me the songs by weeknd to listen."
      ],
      "metadata": {
        "id": "UGf89OcmCNjX"
      }
    },
    {
      "cell_type": "code",
      "source": [],
      "metadata": {
        "id": "-Bzo7xJI9ptB"
      },
      "execution_count": null,
      "outputs": []
    },
    {
      "cell_type": "code",
      "source": [],
      "metadata": {
        "id": "5PygKkgt1E2m"
      },
      "execution_count": null,
      "outputs": []
    }
  ]
}